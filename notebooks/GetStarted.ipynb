{
 "cells": [
  {
   "cell_type": "code",
   "execution_count": null,
   "id": "5cdbe07c",
   "metadata": {},
   "outputs": [],
   "source": [
    "from dynairxvis import plot\n",
    "from datetime import datetime"
   ]
  },
  {
   "cell_type": "code",
   "execution_count": null,
   "id": "7d6d9688",
   "metadata": {},
   "outputs": [],
   "source": [
    "categories = ['Nominal 1', 'Nominal 2', 'Nominal 2', 'Nominal 3']\n",
    "tasks = [\n",
    "    (datetime(2015, 1, 1), datetime.now()),  # Task 1\n",
    "    (datetime(2017, 1, 1), datetime(2019, 6, 1)),  # Task 2\n",
    "    (datetime(2021, 7, 1), datetime.now()), # Continuation of Task 2 (after a gap)\n",
    "    (datetime(2023, 1, 1), datetime.now()),  # Task 3\n",
    "]\n",
    "start_col, end_col = zip(*tasks)\n",
    "\n",
    "plot.gantt(categories,start_col, end_col)"
   ]
  }
 ],
 "metadata": {
  "kernelspec": {
   "display_name": "Python 3 (ipykernel)",
   "language": "python",
   "name": "python3"
  },
  "language_info": {
   "codemirror_mode": {
    "name": "ipython",
    "version": 3
   },
   "file_extension": ".py",
   "mimetype": "text/x-python",
   "name": "python",
   "nbconvert_exporter": "python",
   "pygments_lexer": "ipython3",
   "version": "3.8.12"
  }
 },
 "nbformat": 4,
 "nbformat_minor": 5
}
